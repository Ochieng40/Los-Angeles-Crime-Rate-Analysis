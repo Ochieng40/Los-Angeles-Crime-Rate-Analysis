{
 "cells": [
  {
   "cell_type": "markdown",
   "metadata": {
    "heading_collapsed": true
   },
   "source": [
    "# Data Preparation"
   ]
  },
  {
   "cell_type": "code",
   "execution_count": 106,
   "metadata": {
    "hidden": true
   },
   "outputs": [],
   "source": [
    "import pandas as pd\n",
    "import plotly.express as px #pip install plotly-express\n",
    "import streamlit as st # pip install streamlit\n",
    "import numpy as np\n",
    "import seaborn as sns\n",
    "import matplotlib.pyplot as plt\n",
    "from tabulate import tabulate    # Used to create tables\n",
    "from collections import Counter  # used to iterate or count occureneces of a value in a column\n"
   ]
  },
  {
   "cell_type": "code",
   "execution_count": 107,
   "metadata": {
    "hidden": true
   },
   "outputs": [],
   "source": [
    "st.set_page_config(page_title = \"Los Angeles Crime Dashboard\",\n",
    "                  page_icon = \"\")"
   ]
  },
  {
   "cell_type": "code",
   "execution_count": 108,
   "metadata": {
    "hidden": true
   },
   "outputs": [],
   "source": [
    "df_all = pd.read_csv(\"H:\\\\Denis\\\\Data_Analysis_Training\\\\Python 2\\\\L.A Crime Analysis\\\\Los_Angeles_Crime.csv\")"
   ]
  },
  {
   "cell_type": "code",
   "execution_count": 110,
   "metadata": {
    "hidden": true
   },
   "outputs": [],
   "source": [
    "df = df_all[[\"AREA_NAME\",\"Type_of_Crime\",\"VICTIM_AGE\",\"VICTIM_SEX\",\"Area_crime_conducted\",\"WEAPON_DESC\",\"STATUS_DESC\"]]"
   ]
  },
  {
   "cell_type": "markdown",
   "metadata": {
    "heading_collapsed": true
   },
   "source": [
    "# Data Cleaning"
   ]
  },
  {
   "cell_type": "code",
   "execution_count": 111,
   "metadata": {
    "hidden": true
   },
   "outputs": [
    {
     "data": {
      "text/html": [
       "<div>\n",
       "<style scoped>\n",
       "    .dataframe tbody tr th:only-of-type {\n",
       "        vertical-align: middle;\n",
       "    }\n",
       "\n",
       "    .dataframe tbody tr th {\n",
       "        vertical-align: top;\n",
       "    }\n",
       "\n",
       "    .dataframe thead th {\n",
       "        text-align: right;\n",
       "    }\n",
       "</style>\n",
       "<table border=\"1\" class=\"dataframe\">\n",
       "  <thead>\n",
       "    <tr style=\"text-align: right;\">\n",
       "      <th></th>\n",
       "      <th>AREA_NAME</th>\n",
       "      <th>Type_of_Crime</th>\n",
       "      <th>VICTIM_AGE</th>\n",
       "      <th>VICTIM_SEX</th>\n",
       "      <th>Area_crime_conducted</th>\n",
       "      <th>WEAPON_DESC</th>\n",
       "      <th>STATUS_DESC</th>\n",
       "    </tr>\n",
       "  </thead>\n",
       "  <tbody>\n",
       "    <tr>\n",
       "      <th>0</th>\n",
       "      <td>Southwest</td>\n",
       "      <td>Battery</td>\n",
       "      <td>36</td>\n",
       "      <td>F</td>\n",
       "      <td>Single Residency</td>\n",
       "      <td>STRONG-ARM (HANDS, FIST, FEET OR BODILY FORCE)</td>\n",
       "      <td>Adult Other</td>\n",
       "    </tr>\n",
       "    <tr>\n",
       "      <th>1</th>\n",
       "      <td>Central</td>\n",
       "      <td>Battery</td>\n",
       "      <td>25</td>\n",
       "      <td>M</td>\n",
       "      <td>Street</td>\n",
       "      <td>UNKNOWN WEAPON/OTHER WEAPON</td>\n",
       "      <td>Invest Cont</td>\n",
       "    </tr>\n",
       "    <tr>\n",
       "      <th>2</th>\n",
       "      <td>Central</td>\n",
       "      <td>Sexual Offense</td>\n",
       "      <td>0</td>\n",
       "      <td>X</td>\n",
       "      <td>Police Facility</td>\n",
       "      <td>NaN</td>\n",
       "      <td>Adult Arrest</td>\n",
       "    </tr>\n",
       "    <tr>\n",
       "      <th>3</th>\n",
       "      <td>N Hollywood</td>\n",
       "      <td>Vandalism</td>\n",
       "      <td>76</td>\n",
       "      <td>F</td>\n",
       "      <td>Multi-Unit Dwelling</td>\n",
       "      <td>NaN</td>\n",
       "      <td>Invest Cont</td>\n",
       "    </tr>\n",
       "    <tr>\n",
       "      <th>4</th>\n",
       "      <td>Mission</td>\n",
       "      <td>Vandalism</td>\n",
       "      <td>31</td>\n",
       "      <td>X</td>\n",
       "      <td>Other Business</td>\n",
       "      <td>NaN</td>\n",
       "      <td>Invest Cont</td>\n",
       "    </tr>\n",
       "  </tbody>\n",
       "</table>\n",
       "</div>"
      ],
      "text/plain": [
       "     AREA_NAME   Type_of_Crime  VICTIM_AGE VICTIM_SEX Area_crime_conducted  \\\n",
       "0    Southwest         Battery          36          F     Single Residency   \n",
       "1      Central         Battery          25          M               Street   \n",
       "2      Central  Sexual Offense           0          X      Police Facility   \n",
       "3  N Hollywood       Vandalism          76          F  Multi-Unit Dwelling   \n",
       "4      Mission       Vandalism          31          X       Other Business   \n",
       "\n",
       "                                      WEAPON_DESC   STATUS_DESC  \n",
       "0  STRONG-ARM (HANDS, FIST, FEET OR BODILY FORCE)   Adult Other  \n",
       "1                     UNKNOWN WEAPON/OTHER WEAPON   Invest Cont  \n",
       "2                                             NaN  Adult Arrest  \n",
       "3                                             NaN   Invest Cont  \n",
       "4                                             NaN   Invest Cont  "
      ]
     },
     "execution_count": 111,
     "metadata": {},
     "output_type": "execute_result"
    }
   ],
   "source": [
    "df.head()"
   ]
  },
  {
   "cell_type": "code",
   "execution_count": 112,
   "metadata": {
    "hidden": true
   },
   "outputs": [
    {
     "data": {
      "text/plain": [
       "AREA_NAME                21\n",
       "Type_of_Crime            62\n",
       "VICTIM_AGE              101\n",
       "VICTIM_SEX                4\n",
       "Area_crime_conducted     61\n",
       "WEAPON_DESC              78\n",
       "STATUS_DESC               5\n",
       "dtype: int64"
      ]
     },
     "execution_count": 112,
     "metadata": {},
     "output_type": "execute_result"
    }
   ],
   "source": [
    "df.nunique()"
   ]
  },
  {
   "cell_type": "code",
   "execution_count": 113,
   "metadata": {
    "hidden": true
   },
   "outputs": [
    {
     "data": {
      "text/html": [
       "<div>\n",
       "<style scoped>\n",
       "    .dataframe tbody tr th:only-of-type {\n",
       "        vertical-align: middle;\n",
       "    }\n",
       "\n",
       "    .dataframe tbody tr th {\n",
       "        vertical-align: top;\n",
       "    }\n",
       "\n",
       "    .dataframe thead th {\n",
       "        text-align: right;\n",
       "    }\n",
       "</style>\n",
       "<table border=\"1\" class=\"dataframe\">\n",
       "  <thead>\n",
       "    <tr style=\"text-align: right;\">\n",
       "      <th></th>\n",
       "      <th>VICTIM_AGE</th>\n",
       "    </tr>\n",
       "  </thead>\n",
       "  <tbody>\n",
       "    <tr>\n",
       "      <th>count</th>\n",
       "      <td>407199.000000</td>\n",
       "    </tr>\n",
       "    <tr>\n",
       "      <th>mean</th>\n",
       "      <td>30.056125</td>\n",
       "    </tr>\n",
       "    <tr>\n",
       "      <th>std</th>\n",
       "      <td>21.718318</td>\n",
       "    </tr>\n",
       "    <tr>\n",
       "      <th>min</th>\n",
       "      <td>-1.000000</td>\n",
       "    </tr>\n",
       "    <tr>\n",
       "      <th>25%</th>\n",
       "      <td>12.000000</td>\n",
       "    </tr>\n",
       "    <tr>\n",
       "      <th>50%</th>\n",
       "      <td>31.000000</td>\n",
       "    </tr>\n",
       "    <tr>\n",
       "      <th>75%</th>\n",
       "      <td>45.000000</td>\n",
       "    </tr>\n",
       "    <tr>\n",
       "      <th>max</th>\n",
       "      <td>120.000000</td>\n",
       "    </tr>\n",
       "  </tbody>\n",
       "</table>\n",
       "</div>"
      ],
      "text/plain": [
       "          VICTIM_AGE\n",
       "count  407199.000000\n",
       "mean       30.056125\n",
       "std        21.718318\n",
       "min        -1.000000\n",
       "25%        12.000000\n",
       "50%        31.000000\n",
       "75%        45.000000\n",
       "max       120.000000"
      ]
     },
     "execution_count": 113,
     "metadata": {},
     "output_type": "execute_result"
    }
   ],
   "source": [
    "df.describe()"
   ]
  },
  {
   "cell_type": "code",
   "execution_count": 114,
   "metadata": {
    "hidden": true
   },
   "outputs": [
    {
     "name": "stdout",
     "output_type": "stream",
     "text": [
      "<class 'pandas.core.frame.DataFrame'>\n",
      "RangeIndex: 407199 entries, 0 to 407198\n",
      "Data columns (total 7 columns):\n",
      " #   Column                Non-Null Count   Dtype \n",
      "---  ------                --------------   ----- \n",
      " 0   AREA_NAME             407199 non-null  object\n",
      " 1   Type_of_Crime         407199 non-null  object\n",
      " 2   VICTIM_AGE            407199 non-null  int64 \n",
      " 3   VICTIM_SEX            353458 non-null  object\n",
      " 4   Area_crime_conducted  407039 non-null  object\n",
      " 5   WEAPON_DESC           146379 non-null  object\n",
      " 6   STATUS_DESC           407199 non-null  object\n",
      "dtypes: int64(1), object(6)\n",
      "memory usage: 21.7+ MB\n"
     ]
    }
   ],
   "source": [
    "df.info()"
   ]
  },
  {
   "cell_type": "code",
   "execution_count": 115,
   "metadata": {
    "hidden": true
   },
   "outputs": [
    {
     "data": {
      "text/plain": [
       "AREA_NAME               407199\n",
       "Type_of_Crime           407199\n",
       "VICTIM_AGE              407199\n",
       "VICTIM_SEX              353458\n",
       "Area_crime_conducted    407039\n",
       "WEAPON_DESC             146379\n",
       "STATUS_DESC             407199\n",
       "dtype: int64"
      ]
     },
     "execution_count": 115,
     "metadata": {},
     "output_type": "execute_result"
    }
   ],
   "source": [
    "df.count()"
   ]
  },
  {
   "cell_type": "code",
   "execution_count": 116,
   "metadata": {
    "hidden": true
   },
   "outputs": [
    {
     "data": {
      "text/plain": [
       "AREA_NAME                    0\n",
       "Type_of_Crime                0\n",
       "VICTIM_AGE                   0\n",
       "VICTIM_SEX               53741\n",
       "Area_crime_conducted       160\n",
       "WEAPON_DESC             260820\n",
       "STATUS_DESC                  0\n",
       "dtype: int64"
      ]
     },
     "execution_count": 116,
     "metadata": {},
     "output_type": "execute_result"
    }
   ],
   "source": [
    "df.isnull().sum()"
   ]
  },
  {
   "cell_type": "code",
   "execution_count": 127,
   "metadata": {
    "hidden": true
   },
   "outputs": [],
   "source": [
    "df = df.dropna()"
   ]
  },
  {
   "cell_type": "code",
   "execution_count": 128,
   "metadata": {
    "hidden": true
   },
   "outputs": [
    {
     "data": {
      "text/plain": [
       "AREA_NAME               0\n",
       "Type_of_Crime           0\n",
       "VICTIM_AGE              0\n",
       "VICTIM_SEX              0\n",
       "Area_crime_conducted    0\n",
       "WEAPON_DESC             0\n",
       "STATUS_DESC             0\n",
       "dtype: int64"
      ]
     },
     "execution_count": 128,
     "metadata": {},
     "output_type": "execute_result"
    }
   ],
   "source": [
    "df.isnull().sum()"
   ]
  },
  {
   "cell_type": "code",
   "execution_count": 129,
   "metadata": {
    "hidden": true,
    "scrolled": true
   },
   "outputs": [
    {
     "name": "stdout",
     "output_type": "stream",
     "text": [
      "<class 'pandas.core.frame.DataFrame'>\n",
      "Int64Index: 134959 entries, 0 to 407194\n",
      "Data columns (total 7 columns):\n",
      " #   Column                Non-Null Count   Dtype \n",
      "---  ------                --------------   ----- \n",
      " 0   AREA_NAME             134959 non-null  object\n",
      " 1   Type_of_Crime         134959 non-null  object\n",
      " 2   VICTIM_AGE            134959 non-null  int64 \n",
      " 3   VICTIM_SEX            134959 non-null  object\n",
      " 4   Area_crime_conducted  134959 non-null  object\n",
      " 5   WEAPON_DESC           134959 non-null  object\n",
      " 6   STATUS_DESC           134959 non-null  object\n",
      "dtypes: int64(1), object(6)\n",
      "memory usage: 8.2+ MB\n"
     ]
    }
   ],
   "source": [
    "df.info()"
   ]
  },
  {
   "cell_type": "code",
   "execution_count": 130,
   "metadata": {
    "hidden": true
   },
   "outputs": [],
   "source": [
    "\n",
    "#drop any rows that have 0 in the VICTIM_AGE column\n",
    "df = df[df.VICTIM_AGE != 0]\n"
   ]
  },
  {
   "cell_type": "code",
   "execution_count": 131,
   "metadata": {
    "hidden": true
   },
   "outputs": [
    {
     "name": "stdout",
     "output_type": "stream",
     "text": [
      "<class 'pandas.core.frame.DataFrame'>\n",
      "Int64Index: 134959 entries, 0 to 407194\n",
      "Data columns (total 7 columns):\n",
      " #   Column                Non-Null Count   Dtype \n",
      "---  ------                --------------   ----- \n",
      " 0   AREA_NAME             134959 non-null  object\n",
      " 1   Type_of_Crime         134959 non-null  object\n",
      " 2   VICTIM_AGE            134959 non-null  int64 \n",
      " 3   VICTIM_SEX            134959 non-null  object\n",
      " 4   Area_crime_conducted  134959 non-null  object\n",
      " 5   WEAPON_DESC           134959 non-null  object\n",
      " 6   STATUS_DESC           134959 non-null  object\n",
      "dtypes: int64(1), object(6)\n",
      "memory usage: 8.2+ MB\n"
     ]
    }
   ],
   "source": [
    "df.info()"
   ]
  },
  {
   "cell_type": "markdown",
   "metadata": {
    "heading_collapsed": true
   },
   "source": [
    "# Data Analysis"
   ]
  },
  {
   "cell_type": "markdown",
   "metadata": {
    "hidden": true
   },
   "source": [
    "## IF AND Function"
   ]
  },
  {
   "cell_type": "code",
   "execution_count": 31,
   "metadata": {
    "hidden": true
   },
   "outputs": [
    {
     "name": "stdout",
     "output_type": "stream",
     "text": [
      "60713\n"
     ]
    }
   ],
   "source": [
    "# Checking the number of females on individuals more than 18 years\n",
    "print(sum((df_clean.VICTIM_SEX  == \"F\") & (df_clean.VICTIM_AGE > 18)))"
   ]
  },
  {
   "cell_type": "code",
   "execution_count": 32,
   "metadata": {
    "hidden": true
   },
   "outputs": [
    {
     "name": "stdout",
     "output_type": "stream",
     "text": [
      "5523\n"
     ]
    }
   ],
   "source": [
    "# Checking the number of females on individuals below 18 years\n",
    "print(sum((df_clean.VICTIM_SEX  == \"F\") & (df_clean.VICTIM_AGE < 18)))"
   ]
  },
  {
   "cell_type": "markdown",
   "metadata": {
    "hidden": true
   },
   "source": [
    "## SUM IF Function"
   ]
  },
  {
   "cell_type": "code",
   "execution_count": 33,
   "metadata": {
    "hidden": true
   },
   "outputs": [
    {
     "name": "stdout",
     "output_type": "stream",
     "text": [
      "              VICTIM_AGE\n",
      "STATUS_DESC             \n",
      "Adult Arrest     1190542\n",
      "Adult Other      1759921\n",
      "Invest Cont      9241358\n",
      "Juv Arrest         32414\n",
      "Juv Other          14589\n"
     ]
    }
   ],
   "source": [
    "print(df.groupby('STATUS_DESC').sum())"
   ]
  },
  {
   "cell_type": "code",
   "execution_count": 45,
   "metadata": {
    "hidden": true
   },
   "outputs": [
    {
     "data": {
      "text/html": [
       "<div>\n",
       "<style scoped>\n",
       "    .dataframe tbody tr th:only-of-type {\n",
       "        vertical-align: middle;\n",
       "    }\n",
       "\n",
       "    .dataframe tbody tr th {\n",
       "        vertical-align: top;\n",
       "    }\n",
       "\n",
       "    .dataframe thead th {\n",
       "        text-align: right;\n",
       "    }\n",
       "</style>\n",
       "<table border=\"1\" class=\"dataframe\">\n",
       "  <thead>\n",
       "    <tr style=\"text-align: right;\">\n",
       "      <th></th>\n",
       "      <th>VICTIM_AGE</th>\n",
       "    </tr>\n",
       "    <tr>\n",
       "      <th>STATUS_DESC</th>\n",
       "      <th></th>\n",
       "    </tr>\n",
       "  </thead>\n",
       "  <tbody>\n",
       "    <tr>\n",
       "      <th>Adult Arrest</th>\n",
       "      <td>30.123526</td>\n",
       "    </tr>\n",
       "    <tr>\n",
       "      <th>Adult Other</th>\n",
       "      <td>34.858204</td>\n",
       "    </tr>\n",
       "    <tr>\n",
       "      <th>Invest Cont</th>\n",
       "      <td>29.319215</td>\n",
       "    </tr>\n",
       "    <tr>\n",
       "      <th>Juv Arrest</th>\n",
       "      <td>23.921771</td>\n",
       "    </tr>\n",
       "    <tr>\n",
       "      <th>Juv Other</th>\n",
       "      <td>22.938679</td>\n",
       "    </tr>\n",
       "  </tbody>\n",
       "</table>\n",
       "</div>"
      ],
      "text/plain": [
       "              VICTIM_AGE\n",
       "STATUS_DESC             \n",
       "Adult Arrest   30.123526\n",
       "Adult Other    34.858204\n",
       "Invest Cont    29.319215\n",
       "Juv Arrest     23.921771\n",
       "Juv Other      22.938679"
      ]
     },
     "execution_count": 45,
     "metadata": {},
     "output_type": "execute_result"
    }
   ],
   "source": [
    "xl = (df.groupby('STATUS_DESC')['VICTIM_AGE'].mean())\n",
    "pd.DataFrame(xl)\n"
   ]
  },
  {
   "cell_type": "code",
   "execution_count": 47,
   "metadata": {
    "hidden": true
   },
   "outputs": [
    {
     "data": {
      "text/html": [
       "<div>\n",
       "<style scoped>\n",
       "    .dataframe tbody tr th:only-of-type {\n",
       "        vertical-align: middle;\n",
       "    }\n",
       "\n",
       "    .dataframe tbody tr th {\n",
       "        vertical-align: top;\n",
       "    }\n",
       "\n",
       "    .dataframe thead th {\n",
       "        text-align: right;\n",
       "    }\n",
       "</style>\n",
       "<table border=\"1\" class=\"dataframe\">\n",
       "  <thead>\n",
       "    <tr style=\"text-align: right;\">\n",
       "      <th></th>\n",
       "      <th>VICTIM_AGE</th>\n",
       "    </tr>\n",
       "    <tr>\n",
       "      <th>VICTIM_SEX</th>\n",
       "      <th></th>\n",
       "    </tr>\n",
       "  </thead>\n",
       "  <tbody>\n",
       "    <tr>\n",
       "      <th>F</th>\n",
       "      <td>148445</td>\n",
       "    </tr>\n",
       "    <tr>\n",
       "      <th>H</th>\n",
       "      <td>46</td>\n",
       "    </tr>\n",
       "    <tr>\n",
       "      <th>M</th>\n",
       "      <td>172192</td>\n",
       "    </tr>\n",
       "    <tr>\n",
       "      <th>X</th>\n",
       "      <td>32775</td>\n",
       "    </tr>\n",
       "  </tbody>\n",
       "</table>\n",
       "</div>"
      ],
      "text/plain": [
       "            VICTIM_AGE\n",
       "VICTIM_SEX            \n",
       "F               148445\n",
       "H                   46\n",
       "M               172192\n",
       "X                32775"
      ]
     },
     "execution_count": 47,
     "metadata": {},
     "output_type": "execute_result"
    }
   ],
   "source": [
    "xm = (df.groupby('VICTIM_SEX')['VICTIM_AGE'].count())\n",
    "pd.DataFrame(xm)"
   ]
  },
  {
   "cell_type": "code",
   "execution_count": 54,
   "metadata": {
    "hidden": true
   },
   "outputs": [
    {
     "data": {
      "text/html": [
       "<div>\n",
       "<style scoped>\n",
       "    .dataframe tbody tr th:only-of-type {\n",
       "        vertical-align: middle;\n",
       "    }\n",
       "\n",
       "    .dataframe tbody tr th {\n",
       "        vertical-align: top;\n",
       "    }\n",
       "\n",
       "    .dataframe thead th {\n",
       "        text-align: right;\n",
       "    }\n",
       "</style>\n",
       "<table border=\"1\" class=\"dataframe\">\n",
       "  <thead>\n",
       "    <tr style=\"text-align: right;\">\n",
       "      <th></th>\n",
       "      <th>VICTIM_AGE</th>\n",
       "    </tr>\n",
       "    <tr>\n",
       "      <th>VICTIM_SEX</th>\n",
       "      <th></th>\n",
       "    </tr>\n",
       "  </thead>\n",
       "  <tbody>\n",
       "    <tr>\n",
       "      <th>F</th>\n",
       "      <td>38.336953</td>\n",
       "    </tr>\n",
       "    <tr>\n",
       "      <th>H</th>\n",
       "      <td>36.608696</td>\n",
       "    </tr>\n",
       "    <tr>\n",
       "      <th>M</th>\n",
       "      <td>37.592740</td>\n",
       "    </tr>\n",
       "    <tr>\n",
       "      <th>X</th>\n",
       "      <td>2.212479</td>\n",
       "    </tr>\n",
       "  </tbody>\n",
       "</table>\n",
       "</div>"
      ],
      "text/plain": [
       "            VICTIM_AGE\n",
       "VICTIM_SEX            \n",
       "F            38.336953\n",
       "H            36.608696\n",
       "M            37.592740\n",
       "X             2.212479"
      ]
     },
     "execution_count": 54,
     "metadata": {},
     "output_type": "execute_result"
    }
   ],
   "source": [
    "# Average age of victims under the different gender specification\n",
    "xn = (df.groupby('VICTIM_SEX')['VICTIM_AGE'].mean())\n",
    "pd.DataFrame(xn)"
   ]
  },
  {
   "cell_type": "markdown",
   "metadata": {
    "heading_collapsed": true,
    "hidden": true
   },
   "source": [
    "## Mode (most occuring elements)"
   ]
  },
  {
   "cell_type": "code",
   "execution_count": 56,
   "metadata": {
    "hidden": true
   },
   "outputs": [
    {
     "data": {
      "text/plain": [
       "0    Street\n",
       "Name: Area_crime_conducted, dtype: object"
      ]
     },
     "execution_count": 56,
     "metadata": {},
     "output_type": "execute_result"
    }
   ],
   "source": [
    "# Area where most crimes occur\n",
    "df.Area_crime_conducted.mode()"
   ]
  },
  {
   "cell_type": "code",
   "execution_count": 71,
   "metadata": {
    "hidden": true
   },
   "outputs": [
    {
     "data": {
      "text/html": [
       "<div>\n",
       "<style scoped>\n",
       "    .dataframe tbody tr th:only-of-type {\n",
       "        vertical-align: middle;\n",
       "    }\n",
       "\n",
       "    .dataframe tbody tr th {\n",
       "        vertical-align: top;\n",
       "    }\n",
       "\n",
       "    .dataframe thead th {\n",
       "        text-align: right;\n",
       "    }\n",
       "</style>\n",
       "<table border=\"1\" class=\"dataframe\">\n",
       "  <thead>\n",
       "    <tr style=\"text-align: right;\">\n",
       "      <th></th>\n",
       "      <th>0</th>\n",
       "      <th>1</th>\n",
       "    </tr>\n",
       "  </thead>\n",
       "  <tbody>\n",
       "    <tr>\n",
       "      <th>0</th>\n",
       "      <td>Car theft</td>\n",
       "      <td>58716</td>\n",
       "    </tr>\n",
       "    <tr>\n",
       "      <th>1</th>\n",
       "      <td>Burglary</td>\n",
       "      <td>51192</td>\n",
       "    </tr>\n",
       "    <tr>\n",
       "      <th>2</th>\n",
       "      <td>Vandalism</td>\n",
       "      <td>39868</td>\n",
       "    </tr>\n",
       "    <tr>\n",
       "      <th>3</th>\n",
       "      <td>Battery</td>\n",
       "      <td>35706</td>\n",
       "    </tr>\n",
       "    <tr>\n",
       "      <th>4</th>\n",
       "      <td>Assault - Aggravated</td>\n",
       "      <td>24866</td>\n",
       "    </tr>\n",
       "    <tr>\n",
       "      <th>5</th>\n",
       "      <td>Petty - Theft</td>\n",
       "      <td>23729</td>\n",
       "    </tr>\n",
       "    <tr>\n",
       "      <th>6</th>\n",
       "      <td>Simple assault</td>\n",
       "      <td>21586</td>\n",
       "    </tr>\n",
       "    <tr>\n",
       "      <th>7</th>\n",
       "      <td>Impersonation</td>\n",
       "      <td>20451</td>\n",
       "    </tr>\n",
       "  </tbody>\n",
       "</table>\n",
       "</div>"
      ],
      "text/plain": [
       "                      0      1\n",
       "0             Car theft  58716\n",
       "1              Burglary  51192\n",
       "2             Vandalism  39868\n",
       "3               Battery  35706\n",
       "4  Assault - Aggravated  24866\n",
       "5         Petty - Theft  23729\n",
       "6        Simple assault  21586\n",
       "7         Impersonation  20451"
      ]
     },
     "execution_count": 71,
     "metadata": {},
     "output_type": "execute_result"
    }
   ],
   "source": [
    "# Getting the top 7 most common type of crime in LA\n",
    "from collections import Counter  # used to iterate or count occureneces of a value in a column\n",
    "words_to_count = (word for word in df.Type_of_Crime)\n",
    "c = Counter(words_to_count)\n",
    "xp = (c.most_common(8))\n",
    "pd.DataFrame(xp) "
   ]
  },
  {
   "cell_type": "code",
   "execution_count": 93,
   "metadata": {
    "hidden": true
   },
   "outputs": [
    {
     "data": {
      "text/html": [
       "<div>\n",
       "<style scoped>\n",
       "    .dataframe tbody tr th:only-of-type {\n",
       "        vertical-align: middle;\n",
       "    }\n",
       "\n",
       "    .dataframe tbody tr th {\n",
       "        vertical-align: top;\n",
       "    }\n",
       "\n",
       "    .dataframe thead th {\n",
       "        text-align: right;\n",
       "    }\n",
       "</style>\n",
       "<table border=\"1\" class=\"dataframe\">\n",
       "  <thead>\n",
       "    <tr style=\"text-align: right;\">\n",
       "      <th></th>\n",
       "      <th>Type_of_Crime</th>\n",
       "    </tr>\n",
       "  </thead>\n",
       "  <tbody>\n",
       "    <tr>\n",
       "      <th>Car theft</th>\n",
       "      <td>14.4%</td>\n",
       "    </tr>\n",
       "    <tr>\n",
       "      <th>Burglary</th>\n",
       "      <td>12.6%</td>\n",
       "    </tr>\n",
       "    <tr>\n",
       "      <th>Vandalism</th>\n",
       "      <td>9.8%</td>\n",
       "    </tr>\n",
       "    <tr>\n",
       "      <th>Battery</th>\n",
       "      <td>8.8%</td>\n",
       "    </tr>\n",
       "    <tr>\n",
       "      <th>Assault - Aggravated</th>\n",
       "      <td>6.1%</td>\n",
       "    </tr>\n",
       "    <tr>\n",
       "      <th>Petty - Theft</th>\n",
       "      <td>5.8%</td>\n",
       "    </tr>\n",
       "    <tr>\n",
       "      <th>Simple assault</th>\n",
       "      <td>5.3%</td>\n",
       "    </tr>\n",
       "    <tr>\n",
       "      <th>Impersonation</th>\n",
       "      <td>5.0%</td>\n",
       "    </tr>\n",
       "    <tr>\n",
       "      <th>Car jacking</th>\n",
       "      <td>4.4%</td>\n",
       "    </tr>\n",
       "    <tr>\n",
       "      <th>Grand - Theft</th>\n",
       "      <td>4.0%</td>\n",
       "    </tr>\n",
       "  </tbody>\n",
       "</table>\n",
       "</div>"
      ],
      "text/plain": [
       "                     Type_of_Crime\n",
       "Car theft                    14.4%\n",
       "Burglary                     12.6%\n",
       "Vandalism                     9.8%\n",
       "Battery                       8.8%\n",
       "Assault - Aggravated          6.1%\n",
       "Petty - Theft                 5.8%\n",
       "Simple assault                5.3%\n",
       "Impersonation                 5.0%\n",
       "Car jacking                   4.4%\n",
       "Grand - Theft                 4.0%"
      ]
     },
     "execution_count": 93,
     "metadata": {},
     "output_type": "execute_result"
    }
   ],
   "source": [
    "# Top 10 most common type of crimes in L.A in percentage\n",
    "counts_1 = df.Type_of_Crime.value_counts(normalize=True).mul(100).round(1).astype(str) + '%'\n",
    "pd.DataFrame(counts_1.head(10))"
   ]
  },
  {
   "cell_type": "code",
   "execution_count": 78,
   "metadata": {
    "hidden": true
   },
   "outputs": [
    {
     "data": {
      "text/html": [
       "<div>\n",
       "<style scoped>\n",
       "    .dataframe tbody tr th:only-of-type {\n",
       "        vertical-align: middle;\n",
       "    }\n",
       "\n",
       "    .dataframe tbody tr th {\n",
       "        vertical-align: top;\n",
       "    }\n",
       "\n",
       "    .dataframe thead th {\n",
       "        text-align: right;\n",
       "    }\n",
       "</style>\n",
       "<table border=\"1\" class=\"dataframe\">\n",
       "  <thead>\n",
       "    <tr style=\"text-align: right;\">\n",
       "      <th></th>\n",
       "      <th>0</th>\n",
       "      <th>1</th>\n",
       "    </tr>\n",
       "  </thead>\n",
       "  <tbody>\n",
       "    <tr>\n",
       "      <th>0</th>\n",
       "      <td>Street</td>\n",
       "      <td>127526</td>\n",
       "    </tr>\n",
       "    <tr>\n",
       "      <th>1</th>\n",
       "      <td>Single Residency</td>\n",
       "      <td>70513</td>\n",
       "    </tr>\n",
       "    <tr>\n",
       "      <th>2</th>\n",
       "      <td>Parking Lot</td>\n",
       "      <td>55284</td>\n",
       "    </tr>\n",
       "    <tr>\n",
       "      <th>3</th>\n",
       "      <td>Multi-Unit Dwelling</td>\n",
       "      <td>49652</td>\n",
       "    </tr>\n",
       "    <tr>\n",
       "      <th>4</th>\n",
       "      <td>Other Business</td>\n",
       "      <td>35831</td>\n",
       "    </tr>\n",
       "    <tr>\n",
       "      <th>5</th>\n",
       "      <td>Vehicle</td>\n",
       "      <td>13463</td>\n",
       "    </tr>\n",
       "    <tr>\n",
       "      <th>6</th>\n",
       "      <td>Restaurant</td>\n",
       "      <td>7137</td>\n",
       "    </tr>\n",
       "    <tr>\n",
       "      <th>7</th>\n",
       "      <td>Government Facility</td>\n",
       "      <td>6341</td>\n",
       "    </tr>\n",
       "  </tbody>\n",
       "</table>\n",
       "</div>"
      ],
      "text/plain": [
       "                     0       1\n",
       "0               Street  127526\n",
       "1     Single Residency   70513\n",
       "2          Parking Lot   55284\n",
       "3  Multi-Unit Dwelling   49652\n",
       "4       Other Business   35831\n",
       "5              Vehicle   13463\n",
       "6           Restaurant    7137\n",
       "7  Government Facility    6341"
      ]
     },
     "execution_count": 78,
     "metadata": {},
     "output_type": "execute_result"
    }
   ],
   "source": [
    "\n",
    "# Getting the top 7 specific areas where crime occurrs in LA\n",
    "from collections import Counter  # used to iterate or count occureneces of a value in a column\n",
    "words_to_count = (word for word in df.Area_crime_conducted)\n",
    "c = Counter(words_to_count)\n",
    "xp = (c.most_common(8))\n",
    "pd.DataFrame(xp) \n"
   ]
  },
  {
   "cell_type": "code",
   "execution_count": 81,
   "metadata": {
    "hidden": true
   },
   "outputs": [
    {
     "data": {
      "text/html": [
       "<div>\n",
       "<style scoped>\n",
       "    .dataframe tbody tr th:only-of-type {\n",
       "        vertical-align: middle;\n",
       "    }\n",
       "\n",
       "    .dataframe tbody tr th {\n",
       "        vertical-align: top;\n",
       "    }\n",
       "\n",
       "    .dataframe thead th {\n",
       "        text-align: right;\n",
       "    }\n",
       "</style>\n",
       "<table border=\"1\" class=\"dataframe\">\n",
       "  <thead>\n",
       "    <tr style=\"text-align: right;\">\n",
       "      <th></th>\n",
       "      <th>Area_crime_conducted</th>\n",
       "    </tr>\n",
       "  </thead>\n",
       "  <tbody>\n",
       "    <tr>\n",
       "      <th>Street</th>\n",
       "      <td>127526</td>\n",
       "    </tr>\n",
       "    <tr>\n",
       "      <th>Single Residency</th>\n",
       "      <td>70513</td>\n",
       "    </tr>\n",
       "    <tr>\n",
       "      <th>Parking Lot</th>\n",
       "      <td>55284</td>\n",
       "    </tr>\n",
       "    <tr>\n",
       "      <th>Multi-Unit Dwelling</th>\n",
       "      <td>49652</td>\n",
       "    </tr>\n",
       "    <tr>\n",
       "      <th>Other Business</th>\n",
       "      <td>35831</td>\n",
       "    </tr>\n",
       "    <tr>\n",
       "      <th>Vehicle</th>\n",
       "      <td>13463</td>\n",
       "    </tr>\n",
       "    <tr>\n",
       "      <th>Restaurant</th>\n",
       "      <td>7137</td>\n",
       "    </tr>\n",
       "    <tr>\n",
       "      <th>Government Facility</th>\n",
       "      <td>6341</td>\n",
       "    </tr>\n",
       "    <tr>\n",
       "      <th>Supermarket</th>\n",
       "      <td>5790</td>\n",
       "    </tr>\n",
       "    <tr>\n",
       "      <th>School area</th>\n",
       "      <td>3110</td>\n",
       "    </tr>\n",
       "  </tbody>\n",
       "</table>\n",
       "</div>"
      ],
      "text/plain": [
       "                     Area_crime_conducted\n",
       "Street                             127526\n",
       "Single Residency                    70513\n",
       "Parking Lot                         55284\n",
       "Multi-Unit Dwelling                 49652\n",
       "Other Business                      35831\n",
       "Vehicle                             13463\n",
       "Restaurant                           7137\n",
       "Government Facility                  6341\n",
       "Supermarket                          5790\n",
       "School area                          3110"
      ]
     },
     "execution_count": 81,
     "metadata": {},
     "output_type": "execute_result"
    }
   ],
   "source": [
    "# Another method of getting the 10 areas where crimes occur in L.A\n",
    "counts = df.Area_crime_conducted.value_counts()\n",
    "pd.DataFrame(counts.head(10))"
   ]
  },
  {
   "cell_type": "code",
   "execution_count": 91,
   "metadata": {
    "hidden": true
   },
   "outputs": [
    {
     "data": {
      "text/html": [
       "<div>\n",
       "<style scoped>\n",
       "    .dataframe tbody tr th:only-of-type {\n",
       "        vertical-align: middle;\n",
       "    }\n",
       "\n",
       "    .dataframe tbody tr th {\n",
       "        vertical-align: top;\n",
       "    }\n",
       "\n",
       "    .dataframe thead th {\n",
       "        text-align: right;\n",
       "    }\n",
       "</style>\n",
       "<table border=\"1\" class=\"dataframe\">\n",
       "  <thead>\n",
       "    <tr style=\"text-align: right;\">\n",
       "      <th></th>\n",
       "      <th>Area_crime_conducted</th>\n",
       "    </tr>\n",
       "  </thead>\n",
       "  <tbody>\n",
       "    <tr>\n",
       "      <th>Street</th>\n",
       "      <td>31.3%</td>\n",
       "    </tr>\n",
       "    <tr>\n",
       "      <th>Single Residency</th>\n",
       "      <td>17.3%</td>\n",
       "    </tr>\n",
       "    <tr>\n",
       "      <th>Parking Lot</th>\n",
       "      <td>13.6%</td>\n",
       "    </tr>\n",
       "    <tr>\n",
       "      <th>Multi-Unit Dwelling</th>\n",
       "      <td>12.2%</td>\n",
       "    </tr>\n",
       "    <tr>\n",
       "      <th>Other Business</th>\n",
       "      <td>8.8%</td>\n",
       "    </tr>\n",
       "    <tr>\n",
       "      <th>Vehicle</th>\n",
       "      <td>3.3%</td>\n",
       "    </tr>\n",
       "    <tr>\n",
       "      <th>Restaurant</th>\n",
       "      <td>1.8%</td>\n",
       "    </tr>\n",
       "    <tr>\n",
       "      <th>Government Facility</th>\n",
       "      <td>1.6%</td>\n",
       "    </tr>\n",
       "    <tr>\n",
       "      <th>Supermarket</th>\n",
       "      <td>1.4%</td>\n",
       "    </tr>\n",
       "    <tr>\n",
       "      <th>School area</th>\n",
       "      <td>0.8%</td>\n",
       "    </tr>\n",
       "  </tbody>\n",
       "</table>\n",
       "</div>"
      ],
      "text/plain": [
       "                    Area_crime_conducted\n",
       "Street                             31.3%\n",
       "Single Residency                   17.3%\n",
       "Parking Lot                        13.6%\n",
       "Multi-Unit Dwelling                12.2%\n",
       "Other Business                      8.8%\n",
       "Vehicle                             3.3%\n",
       "Restaurant                          1.8%\n",
       "Government Facility                 1.6%\n",
       "Supermarket                         1.4%\n",
       "School area                         0.8%"
      ]
     },
     "execution_count": 91,
     "metadata": {},
     "output_type": "execute_result"
    }
   ],
   "source": [
    "# Adding percentage to the counts\n",
    "counts = df.Area_crime_conducted.value_counts(normalize=True).mul(100).round(1).astype(str) + '%'\n",
    "pd.DataFrame(counts.head(10))"
   ]
  },
  {
   "cell_type": "code",
   "execution_count": 94,
   "metadata": {
    "hidden": true,
    "scrolled": true
   },
   "outputs": [
    {
     "data": {
      "text/html": [
       "<div>\n",
       "<style scoped>\n",
       "    .dataframe tbody tr th:only-of-type {\n",
       "        vertical-align: middle;\n",
       "    }\n",
       "\n",
       "    .dataframe tbody tr th {\n",
       "        vertical-align: top;\n",
       "    }\n",
       "\n",
       "    .dataframe thead th {\n",
       "        text-align: right;\n",
       "    }\n",
       "</style>\n",
       "<table border=\"1\" class=\"dataframe\">\n",
       "  <thead>\n",
       "    <tr style=\"text-align: right;\">\n",
       "      <th></th>\n",
       "      <th>VICTIM_SEX</th>\n",
       "    </tr>\n",
       "  </thead>\n",
       "  <tbody>\n",
       "    <tr>\n",
       "      <th>M</th>\n",
       "      <td>48.7%</td>\n",
       "    </tr>\n",
       "    <tr>\n",
       "      <th>F</th>\n",
       "      <td>42.0%</td>\n",
       "    </tr>\n",
       "    <tr>\n",
       "      <th>X</th>\n",
       "      <td>9.3%</td>\n",
       "    </tr>\n",
       "    <tr>\n",
       "      <th>H</th>\n",
       "      <td>0.0%</td>\n",
       "    </tr>\n",
       "  </tbody>\n",
       "</table>\n",
       "</div>"
      ],
      "text/plain": [
       "  VICTIM_SEX\n",
       "M      48.7%\n",
       "F      42.0%\n",
       "X       9.3%\n",
       "H       0.0%"
      ]
     },
     "execution_count": 94,
     "metadata": {},
     "output_type": "execute_result"
    }
   ],
   "source": [
    "\n",
    "# Gender of victims in percentage\n",
    "counts_gender = df.VICTIM_SEX.value_counts(normalize=True).mul(100).round(1).astype(str) + '%'\n",
    "pd.DataFrame(counts_gender.head(10))\n"
   ]
  },
  {
   "cell_type": "code",
   "execution_count": 132,
   "metadata": {
    "hidden": true
   },
   "outputs": [
    {
     "data": {
      "text/html": [
       "<div>\n",
       "<style scoped>\n",
       "    .dataframe tbody tr th:only-of-type {\n",
       "        vertical-align: middle;\n",
       "    }\n",
       "\n",
       "    .dataframe tbody tr th {\n",
       "        vertical-align: top;\n",
       "    }\n",
       "\n",
       "    .dataframe thead th {\n",
       "        text-align: right;\n",
       "    }\n",
       "</style>\n",
       "<table border=\"1\" class=\"dataframe\">\n",
       "  <thead>\n",
       "    <tr style=\"text-align: right;\">\n",
       "      <th></th>\n",
       "      <th>VICTIM_AGE</th>\n",
       "    </tr>\n",
       "  </thead>\n",
       "  <tbody>\n",
       "    <tr>\n",
       "      <th>30</th>\n",
       "      <td>3.1%</td>\n",
       "    </tr>\n",
       "    <tr>\n",
       "      <th>26</th>\n",
       "      <td>2.9%</td>\n",
       "    </tr>\n",
       "    <tr>\n",
       "      <th>25</th>\n",
       "      <td>2.9%</td>\n",
       "    </tr>\n",
       "    <tr>\n",
       "      <th>29</th>\n",
       "      <td>2.9%</td>\n",
       "    </tr>\n",
       "    <tr>\n",
       "      <th>28</th>\n",
       "      <td>2.9%</td>\n",
       "    </tr>\n",
       "    <tr>\n",
       "      <th>27</th>\n",
       "      <td>2.9%</td>\n",
       "    </tr>\n",
       "    <tr>\n",
       "      <th>31</th>\n",
       "      <td>2.8%</td>\n",
       "    </tr>\n",
       "    <tr>\n",
       "      <th>24</th>\n",
       "      <td>2.7%</td>\n",
       "    </tr>\n",
       "    <tr>\n",
       "      <th>32</th>\n",
       "      <td>2.6%</td>\n",
       "    </tr>\n",
       "    <tr>\n",
       "      <th>23</th>\n",
       "      <td>2.6%</td>\n",
       "    </tr>\n",
       "  </tbody>\n",
       "</table>\n",
       "</div>"
      ],
      "text/plain": [
       "   VICTIM_AGE\n",
       "30       3.1%\n",
       "26       2.9%\n",
       "25       2.9%\n",
       "29       2.9%\n",
       "28       2.9%\n",
       "27       2.9%\n",
       "31       2.8%\n",
       "24       2.7%\n",
       "32       2.6%\n",
       "23       2.6%"
      ]
     },
     "execution_count": 132,
     "metadata": {},
     "output_type": "execute_result"
    }
   ],
   "source": [
    "\n",
    "# Most occuring age of the victims in percentage\n",
    "counts_age = df.VICTIM_AGE.value_counts(normalize=True).mul(100).round(1).astype(str) + '%'\n",
    "pd.DataFrame(counts_age.head(10))\n"
   ]
  },
  {
   "cell_type": "code",
   "execution_count": 139,
   "metadata": {
    "hidden": true
   },
   "outputs": [
    {
     "data": {
      "text/html": [
       "<div>\n",
       "<style scoped>\n",
       "    .dataframe tbody tr th:only-of-type {\n",
       "        vertical-align: middle;\n",
       "    }\n",
       "\n",
       "    .dataframe tbody tr th {\n",
       "        vertical-align: top;\n",
       "    }\n",
       "\n",
       "    .dataframe thead th {\n",
       "        text-align: right;\n",
       "    }\n",
       "</style>\n",
       "<table border=\"1\" class=\"dataframe\">\n",
       "  <thead>\n",
       "    <tr style=\"text-align: right;\">\n",
       "      <th></th>\n",
       "      <th>AREA_NAME</th>\n",
       "    </tr>\n",
       "  </thead>\n",
       "  <tbody>\n",
       "    <tr>\n",
       "      <th>77th Street</th>\n",
       "      <td>9.1%</td>\n",
       "    </tr>\n",
       "    <tr>\n",
       "      <th>Southeast</th>\n",
       "      <td>7.5%</td>\n",
       "    </tr>\n",
       "    <tr>\n",
       "      <th>Central</th>\n",
       "      <td>7.1%</td>\n",
       "    </tr>\n",
       "    <tr>\n",
       "      <th>Southwest</th>\n",
       "      <td>6.9%</td>\n",
       "    </tr>\n",
       "    <tr>\n",
       "      <th>Newton</th>\n",
       "      <td>5.7%</td>\n",
       "    </tr>\n",
       "    <tr>\n",
       "      <th>Hollywood</th>\n",
       "      <td>5.6%</td>\n",
       "    </tr>\n",
       "    <tr>\n",
       "      <th>Rampart</th>\n",
       "      <td>5.4%</td>\n",
       "    </tr>\n",
       "    <tr>\n",
       "      <th>Olympic</th>\n",
       "      <td>5.2%</td>\n",
       "    </tr>\n",
       "    <tr>\n",
       "      <th>Pacific</th>\n",
       "      <td>4.5%</td>\n",
       "    </tr>\n",
       "    <tr>\n",
       "      <th>Harbor</th>\n",
       "      <td>4.3%</td>\n",
       "    </tr>\n",
       "  </tbody>\n",
       "</table>\n",
       "</div>"
      ],
      "text/plain": [
       "            AREA_NAME\n",
       "77th Street      9.1%\n",
       "Southeast        7.5%\n",
       "Central          7.1%\n",
       "Southwest        6.9%\n",
       "Newton           5.7%\n",
       "Hollywood        5.6%\n",
       "Rampart          5.4%\n",
       "Olympic          5.2%\n",
       "Pacific          4.5%\n",
       "Harbor           4.3%"
      ]
     },
     "execution_count": 139,
     "metadata": {},
     "output_type": "execute_result"
    }
   ],
   "source": [
    "# Top ten locations with the highest crime reported\n",
    "counts_area = df.AREA_NAME.value_counts(normalize=True).mul(100).round(1).astype(str) + '%'\n",
    "pd.DataFrame(counts_area.head(10))"
   ]
  },
  {
   "cell_type": "code",
   "execution_count": null,
   "metadata": {
    "hidden": true
   },
   "outputs": [],
   "source": []
  }
 ],
 "metadata": {
  "kernelspec": {
   "display_name": "Python (learn-env)",
   "language": "python",
   "name": "learn-env"
  },
  "language_info": {
   "codemirror_mode": {
    "name": "ipython",
    "version": 3
   },
   "file_extension": ".py",
   "mimetype": "text/x-python",
   "name": "python",
   "nbconvert_exporter": "python",
   "pygments_lexer": "ipython3",
   "version": "3.9.12"
  }
 },
 "nbformat": 4,
 "nbformat_minor": 4
}
